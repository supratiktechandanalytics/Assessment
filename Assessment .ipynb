{
 "cells": [
  {
   "cell_type": "code",
   "execution_count": 11,
   "id": "bdc4fab3",
   "metadata": {},
   "outputs": [
    {
     "name": "stdout",
     "output_type": "stream",
     "text": [
      "City        Temperature Season\n",
      "London      68  94 \n",
      "Paris       46  86 \n",
      "New York    106 105\n",
      "Dubai       107 102\n",
      "Tokyo       100 87 \n",
      "Singapore   55  103\n",
      "Los Angeles 75  74 \n",
      "Barcelona   57  57 \n",
      "Madrid      66  106\n"
     ]
    }
   ],
   "source": [
    "import numpy as np\n",
    "data = np.genfromtxt('weather.csv.txt', delimiter=',', dtype=str, skip_header=1)\n",
    "cities = data[:, 0]\n",
    "temperatures = data[:, 1]\n",
    "seasons = data[:, 2]\n",
    "city_width = max(len(city) for city in cities)\n",
    "temp_width = max(len(temp) for temp in temperatures)\n",
    "season_width = max(len(season) for season in seasons)\n",
    "print(f\"{'City':<{city_width}} {'Temperature':<{temp_width}} {'Season':<{season_width}}\")\n",
    "for city, temp, season in zip(cities, temperatures, seasons):\n",
    "    print(f\"{city:<{city_width}} {temp:<{temp_width}} {season:<{season_width}}\")\n"
   ]
  },
  {
   "cell_type": "code",
   "execution_count": 23,
   "id": "f8fe632f",
   "metadata": {},
   "outputs": [
    {
     "name": "stdout",
     "output_type": "stream",
     "text": [
      "       day  month  year\n",
      "0       15      8  1947\n",
      "1       16      8  1947\n",
      "2       17      8  1947\n",
      "3       18      8  1947\n",
      "4       19      8  1947\n",
      "...    ...    ...   ...\n",
      "27935    7      2  2024\n",
      "27936    8      2  2024\n",
      "27937    9      2  2024\n",
      "27938   10      2  2024\n",
      "27939   11      2  2024\n",
      "\n",
      "[27940 rows x 3 columns]\n"
     ]
    }
   ],
   "source": [
    "import pandas as pd\n",
    "from datetime import datetime\n",
    "independence_day = datetime(1947, 8, 15)\n",
    "current_date = datetime.now()\n",
    "dates = pd.date_range(independence_day, current_date)\n",
    "data = {\n",
    "    'day': dates.day,\n",
    "    'month': dates.month,\n",
    "    'year': dates.year\n",
    "}\n",
    "df = pd.DataFrame(data)\n",
    "df.to_csv('independence_dates.csv', index=False)\n",
    "print(df)\n"
   ]
  },
  {
   "cell_type": "code",
   "execution_count": null,
   "id": "3eef3a82",
   "metadata": {},
   "outputs": [],
   "source": []
  }
 ],
 "metadata": {
  "kernelspec": {
   "display_name": "Python 3 (ipykernel)",
   "language": "python",
   "name": "python3"
  },
  "language_info": {
   "codemirror_mode": {
    "name": "ipython",
    "version": 3
   },
   "file_extension": ".py",
   "mimetype": "text/x-python",
   "name": "python",
   "nbconvert_exporter": "python",
   "pygments_lexer": "ipython3",
   "version": "3.9.12"
  }
 },
 "nbformat": 4,
 "nbformat_minor": 5
}
